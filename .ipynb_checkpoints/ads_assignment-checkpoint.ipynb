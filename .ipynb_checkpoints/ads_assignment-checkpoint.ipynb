{
 "cells": [
  {
   "cell_type": "code",
   "execution_count": 3,
   "id": "12aca311",
   "metadata": {},
   "outputs": [],
   "source": [
    "import numpy as np\n",
    "import pandas as pd\n",
    "import matplotlib.pyplot as plt"
   ]
  },
  {
   "cell_type": "code",
   "execution_count": 80,
   "id": "368daa25",
   "metadata": {},
   "outputs": [
    {
     "data": {
      "text/plain": [
       "numpy.int64"
      ]
     },
     "execution_count": 80,
     "metadata": {},
     "output_type": "execute_result"
    }
   ],
   "source": [
    "slr = pd.read_csv(\"salaries_data.csv\", index_col = \"salary\")\n",
    "\n",
    "# slr.loc[2023, 'salary']\n",
    "\n",
    "# slr.describe()\n",
    "\n",
    "# type(slr.iloc[0, 0])\n",
    "\n",
    "# print(slr.shape)\n",
    "# print(slr.iloc[[:],[1:4].size)\n",
    "\n",
    "# print(slr.iloc[:, :])\n",
    "\n",
    "# def salary_scatter():\n",
    "    "
   ]
  }
 ],
 "metadata": {
  "kernelspec": {
   "display_name": "Python 3 (ipykernel)",
   "language": "python",
   "name": "python3"
  },
  "language_info": {
   "codemirror_mode": {
    "name": "ipython",
    "version": 3
   },
   "file_extension": ".py",
   "mimetype": "text/x-python",
   "name": "python",
   "nbconvert_exporter": "python",
   "pygments_lexer": "ipython3",
   "version": "3.11.5"
  }
 },
 "nbformat": 4,
 "nbformat_minor": 5
}
